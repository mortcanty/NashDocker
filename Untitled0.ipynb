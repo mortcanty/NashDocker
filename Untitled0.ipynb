{
 "metadata": {
  "name": "",
  "signature": "sha256:6b3802d22b79e76acf595e9c7308e6a2782ce19aaca09c81971ce447bd7ccbad"
 },
 "nbformat": 3,
 "nbformat_minor": 0,
 "worksheets": [
  {
   "cells": [
    {
     "cell_type": "code",
     "collapsed": false,
     "input": [
      " A = [[1,0,0,0],[0,1,0,0],[0,0,1,0],[0,0,0,1],[2/7.,2/7.,2/7.,2/7.],[3/19.,6/19.,6/19.,6/19.],[7/38.,7/38.,7/19.,7/19.]]"
     ],
     "language": "python",
     "metadata": {},
     "outputs": [],
     "prompt_number": 11
    },
    {
     "cell_type": "code",
     "collapsed": false,
     "input": [
      "A"
     ],
     "language": "python",
     "metadata": {},
     "outputs": [
      {
       "metadata": {},
       "output_type": "pyout",
       "prompt_number": 12,
       "text": [
        "[[1, 0, 0, 0],\n",
        " [0, 1, 0, 0],\n",
        " [0, 0, 1, 0],\n",
        " [0, 0, 0, 1],\n",
        " [0.2857142857142857,\n",
        "  0.2857142857142857,\n",
        "  0.2857142857142857,\n",
        "  0.2857142857142857],\n",
        " [0.15789473684210525,\n",
        "  0.3157894736842105,\n",
        "  0.3157894736842105,\n",
        "  0.3157894736842105],\n",
        " [0.18421052631578946,\n",
        "  0.18421052631578946,\n",
        "  0.3684210526315789,\n",
        "  0.3684210526315789]]"
       ]
      }
     ],
     "prompt_number": 12
    },
    {
     "cell_type": "code",
     "collapsed": false,
     "input": [],
     "language": "python",
     "metadata": {},
     "outputs": []
    }
   ],
   "metadata": {}
  }
 ]
}