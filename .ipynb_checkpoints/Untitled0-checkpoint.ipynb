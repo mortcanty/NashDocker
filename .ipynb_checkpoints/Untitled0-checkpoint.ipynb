{
 "metadata": {
  "name": "",
  "signature": "sha256:8014993edd1e1dc585aa75bfaab317cecb8d46aff18a1fc29973f6ef0e5e2f3f"
 },
 "nbformat": 3,
 "nbformat_minor": 0,
 "worksheets": []
}