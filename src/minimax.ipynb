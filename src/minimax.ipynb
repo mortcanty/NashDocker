{
 "metadata": {
  "name": "",
  "signature": "sha256:c29f543587e962df3e997093f0d53a296bb02db1a7856fda08088d5865de0c70"
 },
 "nbformat": 3,
 "nbformat_minor": 0,
 "worksheets": [
  {
   "cells": [
    {
     "cell_type": "code",
     "collapsed": false,
     "input": [
      "from cvxopt import matrix, solvers\n",
      "#from cvxopt.solvers import lp\n",
      "from sympy import *"
     ],
     "language": "python",
     "metadata": {},
     "outputs": [],
     "prompt_number": 89
    },
    {
     "cell_type": "code",
     "collapsed": false,
     "input": [
      "def minimax(A):\n",
      "    A = Matrix(A)\n",
      "    m,n = A.shape\n",
      "    s = min(A)\n",
      "    A = A-ones(m,n)*(s-1)\n",
      "    G = A.T.row_insert(n,eye(m)).tolist()\n",
      "    G = [map(float,G[i]) for i in range(m+n)]\n",
      "    g = -matrix(G).T\n",
      "    C = ones(m,1).tolist()   \n",
      "    C = [map(float,C[i]) for i in range(m)]\n",
      "    c = matrix(C).T\n",
      "    H = ones(n,1).row_insert(n,zeros(m,1)).tolist()\n",
      "    H = [map(float,H[i]) for i in range(m+n)]\n",
      "    h = matrix(H).T\n",
      "    print c\n",
      "    print g\n",
      "    print h\n",
      "    sol = lp(c,g,h)\n",
      "    print sol['x']\n",
      "    "
     ],
     "language": "python",
     "metadata": {},
     "outputs": [],
     "prompt_number": 90
    },
    {
     "cell_type": "code",
     "collapsed": false,
     "input": [
      "A = [[4,-4,1],[-4,4,-2]]"
     ],
     "language": "python",
     "metadata": {},
     "outputs": [],
     "prompt_number": 91
    },
    {
     "cell_type": "code",
     "collapsed": false,
     "input": [
      "print minimax(A)"
     ],
     "language": "python",
     "metadata": {},
     "outputs": [
      {
       "output_type": "stream",
       "stream": "stdout",
       "text": [
        "[ 1.00e+00]\n",
        "[ 1.00e+00]\n",
        "\n",
        "[-9.00e+00 -1.00e+00]\n",
        "[-1.00e+00 -9.00e+00]\n",
        "[-6.00e+00 -3.00e+00]\n",
        "[-1.00e+00 -0.00e+00]\n",
        "[-0.00e+00 -1.00e+00]\n",
        "\n",
        "[ 1.00e+00]\n",
        "[ 1.00e+00]\n",
        "[ 1.00e+00]\n",
        "[ 0.00e+00]\n",
        "[ 0.00e+00]\n",
        "\n",
        "     pcost       dcost       gap    pres   dres   k/t\n",
        " 0: -2.0462e-01 -2.0462e-01  2e-01  1e+00  2e-16  1e+00\n",
        " 1: -2.0420e-01 -2.0366e-01  2e-02  1e-01  8e-17  1e-01\n",
        " 2: -1.7385e-01 -1.1806e-01  1e-01  2e-01  1e-15  2e-01\n",
        " 3: -8.4101e-02 -1.2144e-02  8e-02  1e-01  7e-16  1e-01\n",
        " 4: -6.4577e-03 -1.2890e-02  2e-02  1e-02  2e-16  1e-03\n",
        " 5: -7.0272e-05 -1.3927e-04  3e-04  1e-04  1e-16  2e-05\n",
        " 6: -7.0301e-07 -1.3933e-06  3e-06  1e-06  1e-16  2e-07\n",
        " 7: -7.0301e-09 -1.3933e-08  3e-08  1e-08  1e-16  2e-09\n",
        "Optimal solution found.\n",
        "[-3.03e-09]\n",
        "[-4.00e-09]\n",
        "\n",
        "None\n"
       ]
      }
     ],
     "prompt_number": 92
    },
    {
     "cell_type": "code",
     "collapsed": false,
     "input": [
      "ones(2,1)"
     ],
     "language": "python",
     "metadata": {},
     "outputs": [
      {
       "metadata": {},
       "output_type": "pyout",
       "prompt_number": 7,
       "text": [
        "Matrix([\n",
        "[1],\n",
        "[1]])"
       ]
      }
     ],
     "prompt_number": 7
    },
    {
     "cell_type": "code",
     "collapsed": false,
     "input": [
      "from cvxopt.solvers import lp"
     ],
     "language": "python",
     "metadata": {},
     "outputs": [],
     "prompt_number": 53
    },
    {
     "cell_type": "code",
     "collapsed": false,
     "input": [],
     "language": "python",
     "metadata": {},
     "outputs": []
    }
   ],
   "metadata": {}
  }
 ]
}