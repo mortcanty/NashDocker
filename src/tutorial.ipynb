{
 "metadata": {
  "name": "",
  "signature": "sha256:0dbbebb4ef641a624d42c7d5cbbb44748c48da0d5ca100153140d58fdefc7c07"
 },
 "nbformat": 3,
 "nbformat_minor": 0,
 "worksheets": [
  {
   "cells": [
    {
     "cell_type": "heading",
     "level": 1,
     "metadata": {},
     "source": [
      "Nash equilibria of finite, two-person, non-cooperative games (bimatrix games)"
     ]
    },
    {
     "cell_type": "heading",
     "level": 2,
     "metadata": {},
     "source": [
      "Introduction"
     ]
    },
    {
     "cell_type": "markdown",
     "metadata": {},
     "source": [
      "Some 12 years ago I wrote a monograph on algorithmic game theory called <a href=\"http://www.amazon.com/exec/obidos/tg/detail/-/0121588556/qid=1099033780/sr=1-1/ref=sr_1_1/104-0498814-5846344?v=glance&s=books\">Resolving Conflicts with Mathematica</a>. The Docker container <b>mort/nashdocker</b> makes an IPython wrapper available which replaces some of the Mathematica functions in that text.\n",
      "\n",
      "To run it on Ubuntu Linux for example, assuming you have Docker installed, simply type\n",
      "\n",
      "<b>sudo docker run -d -p 433:8888 --name=nash mort/nashdocker</b>\n"
     ]
    },
    {
     "cell_type": "heading",
     "level": 2,
     "metadata": {},
     "source": [
      "Examples"
     ]
    },
    {
     "cell_type": "markdown",
     "metadata": {},
     "source": [
      "First import <b>nashEquilibria</b> and <b>sympy</b>:"
     ]
    },
    {
     "cell_type": "code",
     "collapsed": false,
     "input": [
      "from nash.nasheq import nashEquilibria\n",
      "from sympy import *\n",
      "init_printing()"
     ],
     "language": "python",
     "metadata": {},
     "outputs": [],
     "prompt_number": 13
    },
    {
     "cell_type": "markdown",
     "metadata": {},
     "source": [
      "The follwing bimatrix game due to H.-M. Winkels is highly degenerate:"
     ]
    },
    {
     "cell_type": "code",
     "collapsed": false,
     "input": [
      "#  Winkels' game\n",
      "A = [[1,3],[1,3],[3,1],[3,1],[2.5,2.5],[2.5,2.5]]  \n",
      "B = [[1,2],[0,-1],[-2,2],[4,-1],[-1,6],[6,-1]] \n",
      "(Matrix(A),Matrix(B))"
     ],
     "language": "python",
     "metadata": {},
     "outputs": [
      {
       "latex": [
        "$$\\begin{pmatrix}\\left[\\begin{matrix}1 & 3\\\\1 & 3\\\\3 & 1\\\\3 & 1\\\\2.5 & 2.5\\\\2.5 & 2.5\\end{matrix}\\right], & \\left[\\begin{matrix}1 & 2\\\\0 & -1\\\\-2 & 2\\\\4 & -1\\\\-1 & 6\\\\6 & -1\\end{matrix}\\right]\\end{pmatrix}$$"
       ],
       "metadata": {},
       "output_type": "pyout",
       "prompt_number": 14,
       "text": [
        "\u239b\u23a1 1    3 \u23a4, \u23a11   2 \u23a4\u239e\n",
        "\u239c\u23a2        \u23a5  \u23a2      \u23a5\u239f\n",
        "\u239c\u23a2 1    3 \u23a5  \u23a20   -1\u23a5\u239f\n",
        "\u239c\u23a2        \u23a5  \u23a2      \u23a5\u239f\n",
        "\u239c\u23a2 3    1 \u23a5  \u23a2-2  2 \u23a5\u239f\n",
        "\u239c\u23a2        \u23a5  \u23a2      \u23a5\u239f\n",
        "\u239c\u23a2 3    1 \u23a5  \u23a24   -1\u23a5\u239f\n",
        "\u239c\u23a2        \u23a5  \u23a2      \u23a5\u239f\n",
        "\u239c\u23a22.5  2.5\u23a5  \u23a2-1  6 \u23a5\u239f\n",
        "\u239c\u23a2        \u23a5  \u23a2      \u23a5\u239f\n",
        "\u239d\u23a32.5  2.5\u23a6  \u23a36   -1\u23a6\u23a0"
       ]
      }
     ],
     "prompt_number": 14
    },
    {
     "cell_type": "markdown",
     "metadata": {},
     "source": [
      "Matrix $A$ gives the pure strategy payoffs to player1 (row player) against the pure strategies of player2 (column player). Thus player1 has 6 pure strategies and player2 has 2 pure strategies. Matrix $B$ gives the corresponding payoffs for player2.\n",
      "\n",
      "With the option <b>select='all'</b> (default) we get all of the extreme Nash equilibria via complete vertex enumeration with David Avis's <a href=\"http://cgm.cs.mcgill.ca/~avis/C/lrs.html\">lrslib</a>"
     ]
    },
    {
     "cell_type": "code",
     "collapsed": false,
     "input": [
      "nes = nashEquilibria(A,B,select='all')"
     ],
     "language": "python",
     "metadata": {},
     "outputs": [],
     "prompt_number": 15
    },
    {
     "cell_type": "markdown",
     "metadata": {},
     "source": [
      "There are 12 in all:"
     ]
    },
    {
     "cell_type": "code",
     "collapsed": false,
     "input": [
      "len(nes)"
     ],
     "language": "python",
     "metadata": {},
     "outputs": [
      {
       "latex": [
        "$$12$$"
       ],
       "metadata": {},
       "output_type": "pyout",
       "prompt_number": 16,
       "text": [
        "12"
       ]
      }
     ],
     "prompt_number": 16
    },
    {
     "cell_type": "markdown",
     "metadata": {},
     "source": [
      "Here is the first one, in the format <b>( [player1 equilibrium strategy], player1 payoff, [player2 equilibrium strategy], player2 payoff )</b>:"
     ]
    },
    {
     "cell_type": "code",
     "collapsed": false,
     "input": [
      "nes[0]"
     ],
     "language": "python",
     "metadata": {},
     "outputs": [
      {
       "latex": [
        "$$\\begin{pmatrix}\\begin{bmatrix}0.5, & 0.5, & 0, & 0, & 0, & 0\\end{bmatrix}, & 2.5, & \\begin{bmatrix}0.25, & 0.75\\end{bmatrix}, & 0.5\\end{pmatrix}$$"
       ],
       "metadata": {},
       "output_type": "pyout",
       "prompt_number": 17,
       "text": [
        "([0.5, 0.5, 0, 0, 0, 0], 2.5, [0.25, 0.75], 0.5)"
       ]
      }
     ],
     "prompt_number": 17
    },
    {
     "cell_type": "markdown",
     "metadata": {},
     "source": [
      "And here is the last:"
     ]
    },
    {
     "cell_type": "code",
     "collapsed": false,
     "input": [
      "nes[11]"
     ],
     "language": "python",
     "metadata": {},
     "outputs": [
      {
       "latex": [
        "$$\\begin{pmatrix}\\begin{bmatrix}1, & 0, & 0, & 0, & 0, & 0\\end{bmatrix}, & 3, & \\begin{bmatrix}0, & 1\\end{bmatrix}, & 2\\end{pmatrix}$$"
       ],
       "metadata": {},
       "output_type": "pyout",
       "prompt_number": 18,
       "text": [
        "([1, 0, 0, 0, 0, 0], 3, [0, 1], 2)"
       ]
      }
     ],
     "prompt_number": 18
    },
    {
     "cell_type": "markdown",
     "metadata": {},
     "source": [
      "With the option <b>select='one'</b> the <a href=\"http://en.wikipedia.org/wiki/Lemke%E2%80%93Howson_algorithm\">Lemke-Howson algorithm</a> is invoked to find one equilibrium. It happens to be the last of the above extreme equilibria:"
     ]
    },
    {
     "cell_type": "code",
     "collapsed": false,
     "input": [
      "nashEquilibria(A,B,select='one')"
     ],
     "language": "python",
     "metadata": {},
     "outputs": [
      {
       "latex": [
        "$$\\begin{pmatrix}\\begin{bmatrix}1.0, & 0.0, & 0.0, & 0.0, & 0.0, & 0.0\\end{bmatrix}, & 3.0, & \\begin{bmatrix}0.0, & 1.0\\end{bmatrix}, & 2.0\\end{pmatrix}$$"
       ],
       "metadata": {},
       "output_type": "pyout",
       "prompt_number": 19,
       "text": [
        "([1.0, 0.0, 0.0, 0.0, 0.0, 0.0], 3.0, [0.0, 1.0], 2.0)"
       ]
      }
     ],
     "prompt_number": 19
    },
    {
     "cell_type": "markdown",
     "metadata": {},
     "source": [
      "Here is a <b>matrix or zero-sum game</b>. The matrix gives the payoffs to player1. Player2's payoffs are the negative of player1's payoffs:"
     ]
    },
    {
     "cell_type": "code",
     "collapsed": false,
     "input": [
      "A = [[4,-4,1],[-4,4,-2]]\n",
      "Matrix(A)"
     ],
     "language": "python",
     "metadata": {},
     "outputs": [
      {
       "latex": [
        "$$\\left[\\begin{matrix}4 & -4 & 1\\\\-4 & 4 & -2\\end{matrix}\\right]$$"
       ],
       "metadata": {},
       "output_type": "pyout",
       "prompt_number": 20,
       "text": [
        "\u23a14   -4  1 \u23a4\n",
        "\u23a2          \u23a5\n",
        "\u23a3-4  4   -2\u23a6"
       ]
      }
     ],
     "prompt_number": 20
    },
    {
     "cell_type": "markdown",
     "metadata": {},
     "source": [
      "<b>nashEquilibria</b> with one argument will solve the game using an equivalent <b>linear program</b>:"
     ]
    },
    {
     "cell_type": "code",
     "collapsed": false,
     "input": [
      "nashEquilibria(A)"
     ],
     "language": "python",
     "metadata": {},
     "outputs": [
      {
       "latex": [
        "$$\\begin{pmatrix}\\begin{bmatrix}0.545454545455, & 0.454545454545\\end{bmatrix}, & -0.363636363636, & \\begin{bmatrix}0.0, & 0.272727272727, & 0.727272727273\\end{bmatrix}, & 0.363636363636\\end{pmatrix}$$"
       ],
       "metadata": {},
       "output_type": "pyout",
       "prompt_number": 21,
       "text": [
        "([0.545454545455, 0.454545454545], -0.363636363636, [0.0, 0.272727272727, 0.72\n",
        "7272727273], 0.363636363636)"
       ]
      }
     ],
     "prompt_number": 21
    },
    {
     "cell_type": "markdown",
     "metadata": {},
     "source": [
      "The following $6\\times 6$ bimatrix game due to Bernhard von Stengel disproved the conjecture that the maximum number of equilibria of an $m\\times m$ nondegenerate game is $2^n-1$:"
     ]
    },
    {
     "cell_type": "code",
     "collapsed": false,
     "input": [
      "#  von Stengel's game    \n",
      "A = [[9504,-660,19976,-20526,1776,-8976],[-111771,31680,-130944,168124,-8514,52764], \\\n",
      "     [397584,-113850,451176,-586476,29216,-178761],[171204,-45936,208626,-263076,14124,-84436], \\\n",
      "     [1303104,-453420,1227336,-1718376,72336,-461736],[737154,-227040,774576,-1039236,48081,-300036]]        \n",
      "B = [[72336,48081,29216,14124,1776,-8514],[-461736,-300036,-178761,-84436,-8976,52764], \\\n",
      "     [1227336,774576,451176,208626,19976,-130944],[-1718376,-1039236,-586476,-263076,-20526,168124], \\\n",
      "     [1303104,737154,397584,171204,9504,-111771],[-453420,-227040,-113850,-45936,-660,31680]] \n",
      "(Matrix(A),Matrix(B))"
     ],
     "language": "python",
     "metadata": {},
     "outputs": [
      {
       "latex": [
        "$$\\begin{pmatrix}\\left[\\begin{matrix}9504 & -660 & 19976 & -20526 & 1776 & -8976\\\\-111771 & 31680 & -130944 & 168124 & -8514 & 52764\\\\397584 & -113850 & 451176 & -586476 & 29216 & -178761\\\\171204 & -45936 & 208626 & -263076 & 14124 & -84436\\\\1303104 & -453420 & 1227336 & -1718376 & 72336 & -461736\\\\737154 & -227040 & 774576 & -1039236 & 48081 & -300036\\end{matrix}\\right], & \\left[\\begin{matrix}72336 & 48081 & 29216 & 14124 & 1776 & -8514\\\\-461736 & -300036 & -178761 & -84436 & -8976 & 52764\\\\1227336 & 774576 & 451176 & 208626 & 19976 & -130944\\\\-1718376 & -1039236 & -586476 & -263076 & -20526 & 168124\\\\1303104 & 737154 & 397584 & 171204 & 9504 & -111771\\\\-453420 & -227040 & -113850 & -45936 & -660 & 31680\\end{matrix}\\right]\\end{pmatrix}$$"
       ],
       "metadata": {},
       "output_type": "pyout",
       "prompt_number": 22,
       "text": [
        "\u239b\u23a1 9504     -660     19976    -20526   1776    -8976 \u23a4, \u23a1 72336     48081     \n",
        "\u239c\u23a2                                                   \u23a5  \u23a2                     \n",
        "\u239c\u23a2-111771   31680   -130944   168124   -8514   52764 \u23a5  \u23a2-461736   -300036   -\n",
        "\u239c\u23a2                                                   \u23a5  \u23a2                     \n",
        "\u239c\u23a2397584   -113850  451176   -586476   29216  -178761\u23a5  \u23a21227336    774576   4\n",
        "\u239c\u23a2                                                   \u23a5  \u23a2                     \n",
        "\u239c\u23a2171204   -45936   208626   -263076   14124  -84436 \u23a5  \u23a2-1718376  -1039236  -\n",
        "\u239c\u23a2                                                   \u23a5  \u23a2                     \n",
        "\u239c\u23a21303104  -453420  1227336  -1718376  72336  -461736\u23a5  \u23a21303104    737154   3\n",
        "\u239c\u23a2                                                   \u23a5  \u23a2                     \n",
        "\u239d\u23a3737154   -227040  774576   -1039236  48081  -300036\u23a6  \u23a3-453420   -227040   -\n",
        "\n",
        "29216    14124    1776    -8514 \u23a4\u239e\n",
        "                                \u23a5\u239f\n",
        "178761  -84436   -8976    52764 \u23a5\u239f\n",
        "                                \u23a5\u239f\n",
        "51176   208626   19976   -130944\u23a5\u239f\n",
        "                                \u23a5\u239f\n",
        "586476  -263076  -20526  168124 \u23a5\u239f\n",
        "                                \u23a5\u239f\n",
        "97584   171204    9504   -111771\u23a5\u239f\n",
        "                                \u23a5\u239f\n",
        "113850  -45936    -660    31680 \u23a6\u23a0"
       ]
      }
     ],
     "prompt_number": 22
    },
    {
     "cell_type": "markdown",
     "metadata": {},
     "source": [
      "The number of equilibria is:"
     ]
    },
    {
     "cell_type": "code",
     "collapsed": false,
     "input": [
      "len(nashEquilibria(A,B))"
     ],
     "language": "python",
     "metadata": {},
     "outputs": [
      {
       "latex": [
        "$$75$$"
       ],
       "metadata": {},
       "output_type": "pyout",
       "prompt_number": 23,
       "text": [
        "75"
       ]
      }
     ],
     "prompt_number": 23
    },
    {
     "cell_type": "markdown",
     "metadata": {},
     "source": [
      "which exceeds"
     ]
    },
    {
     "cell_type": "code",
     "collapsed": false,
     "input": [
      "2**6-1"
     ],
     "language": "python",
     "metadata": {},
     "outputs": [
      {
       "latex": [
        "$$63$$"
       ],
       "metadata": {},
       "output_type": "pyout",
       "prompt_number": 24,
       "text": [
        "63"
       ]
      }
     ],
     "prompt_number": 24
    },
    {
     "cell_type": "code",
     "collapsed": false,
     "input": [],
     "language": "python",
     "metadata": {},
     "outputs": [],
     "prompt_number": 24
    }
   ],
   "metadata": {}
  }
 ]
}