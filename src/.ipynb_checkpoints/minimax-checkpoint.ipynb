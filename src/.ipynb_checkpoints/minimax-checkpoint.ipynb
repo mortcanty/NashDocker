{
 "metadata": {
  "name": "",
  "signature": "sha256:5ac364b845076dab4ff79fe8fd70e3ca97977e8013f7af0c07afff3a11fcf5cc"
 },
 "nbformat": 3,
 "nbformat_minor": 0,
 "worksheets": [
  {
   "cells": [
    {
     "cell_type": "code",
     "collapsed": false,
     "input": [
      "from cvxopt import matrix, solvers\n",
      "from sympy import *"
     ],
     "language": "python",
     "metadata": {},
     "outputs": [],
     "prompt_number": 180
    },
    {
     "cell_type": "code",
     "collapsed": false,
     "input": [
      "def minimax(A):\n",
      "    A = Matrix(A)\n",
      "    m,n = A.shape\n",
      "    s = min(A)\n",
      "    A = A-ones(m,n)*(s-1)\n",
      "    G = A.row_insert(m,-eye(n)).T.tolist()\n",
      "    G = [map(float,G[i]) for i in range(n)]\n",
      "    return matrix(G)\n",
      "    "
     ],
     "language": "python",
     "metadata": {},
     "outputs": [],
     "prompt_number": 186
    },
    {
     "cell_type": "code",
     "collapsed": false,
     "input": [
      "A = [[2.5,2],[1,3],[1,4]]"
     ],
     "language": "python",
     "metadata": {},
     "outputs": [],
     "prompt_number": 187
    },
    {
     "cell_type": "code",
     "collapsed": false,
     "input": [
      "print minimax(A)"
     ],
     "language": "python",
     "metadata": {},
     "outputs": [
      {
       "output_type": "stream",
       "stream": "stdout",
       "text": [
        "[ 2.50e+00  2.00e+00]\n",
        "[ 1.00e+00  3.00e+00]\n",
        "[ 1.00e+00  4.00e+00]\n",
        "[-1.00e+00  0.00e+00]\n",
        "[ 0.00e+00 -1.00e+00]\n",
        "\n"
       ]
      }
     ],
     "prompt_number": 188
    },
    {
     "cell_type": "code",
     "collapsed": false,
     "input": [],
     "language": "python",
     "metadata": {},
     "outputs": []
    }
   ],
   "metadata": {}
  }
 ]
}