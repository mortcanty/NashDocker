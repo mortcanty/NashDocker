{
 "metadata": {
  "name": "",
  "signature": "sha256:d6ae49dfe70a36db2dd2bc1ad8c10a90a91020e4b3f5c8a7e20445aae32b0503"
 },
 "nbformat": 3,
 "nbformat_minor": 0,
 "worksheets": [
  {
   "cells": [
    {
     "cell_type": "code",
     "collapsed": false,
     "input": [
      "from sympy import *\n",
      "import numpy as np\n",
      "\n",
      "def nash_injest(A):\n",
      "    sh = np.shape(A)\n",
      "    return Matrix( np.reshape( map(nsimplify,np.ravel(A)),sh ) )\n",
      "\n",
      "def leaving(T,s):\n",
      "    \n",
      "    def lexLess(X,Y):\n",
      "        i = np.where(X-Y)[0][0]\n",
      "        return X[i]<Y[i]\n",
      "    \n",
      "    def lexMax(S):\n",
      "        if len(S) ==1:    # singleton\n",
      "            return S[0]\n",
      "        else:             # degenerate game   \n",
      "            Vs = [ T.row(S[i])/(T.row(S[i])[s+1]) for i in range(len(S)) ]\n",
      "            posmax = S[0]  \n",
      "            Vmax = Vs[0]\n",
      "            ell = 1\n",
      "            while ell <= len(S):\n",
      "                if lexLess(Vmax,Vs[ell]):\n",
      "                    posmax = S[ell]\n",
      "                else:\n",
      "                    Vmax = Vs[ell]\n",
      "            ell += 1\n",
      "        return posmax\n",
      "         \n",
      "    E = -T.T.row(0)\n",
      "    U =  T.T.row(s+1)\n",
      "    t = [E[j]/U[j] if U[j] > 0 else oo for j in range(len(T))] \n",
      "    t = np.array(t)\n",
      "    tmin = np.min(t)\n",
      "    So = np.where(t==tmin)\n",
      "    return  lexMax(So)\n",
      "    \n",
      "    \n",
      "    "
     ],
     "language": "python",
     "metadata": {},
     "outputs": [],
     "prompt_number": 70
    },
    {
     "cell_type": "code",
     "collapsed": false,
     "input": [
      "def nasheqLH(a,b):\n",
      "    \n",
      "    def pivot(i,j):\n",
      "        if i == r:\n",
      "            return T[r,j]/T[r-1,s+1]\n",
      "        else:\n",
      "            return T[i,j] - T[r,j]*T[i,s+1]/T[r-1,s+1]\n",
      "    \n",
      "    a = nash_injest(a)\n",
      "    b = nash_injest(b)\n",
      "    smallest = min(min(a),min(b))\n",
      "    A = a - ones(a.shape)*(smallest - 1)\n",
      "    B = b - ones(a.shape)*(smallest - 1)\n",
      "    m, n = A.shape\n",
      "    k = m + n\n",
      "    M = zeros(m,m).col_insert(m,A).row_insert(m,B.T.col_insert(m,zeros(n,n)))\n",
      "    C = M.col_insert(k,ones([E[j]/U[j] if U[j] > 0 else oo for j in range(len(T))]  k,k))\n",
      "    T = C.col_insert(0,-ones(k,1))\n",
      "    beta = range(k-1,2*k)\n",
      "    s = 0\n",
      "    br = 0\n",
      "#  complementary pivoting\n",
      "    while (br != 0) and (br != k):\n",
      "        tmp = Matrix(k,2*k+1)\n",
      "        r = leaving(T,s)\n",
      "        for i in range(k):\n",
      "            for j in range(2*k+1):\n",
      "                tmp[i,j] = pivot[i,j]\n",
      "        T = tmp\n",
      "        br = beta[r]\n",
      "        beta[r] = s\n",
      "        if br >= k:\n",
      "            s = br-k\n",
      "        else:\n",
      "            s = br+k\n",
      "    \n",
      " \n",
      "    "
     ],
     "language": "python",
     "metadata": {},
     "outputs": [],
     "prompt_number": 22
    },
    {
     "cell_type": "heading",
     "level": 2,
     "metadata": {},
     "source": [
      "Winkel's Game"
     ]
    },
    {
     "cell_type": "code",
     "collapsed": false,
     "input": [
      "A = np.array([[1,3],[1,3],[3,1],[3,1],[2.5,2.5],[2.5,2.5]])\n",
      "B = np.array([[1,2],[0,-1],[-2,2],[4,-1],[-1,6],[6,-1]])"
     ],
     "language": "python",
     "metadata": {},
     "outputs": [],
     "prompt_number": 71
    },
    {
     "cell_type": "code",
     "collapsed": false,
     "input": [
      "a = nash_injest(A)"
     ],
     "language": "python",
     "metadata": {},
     "outputs": [],
     "prompt_number": 81
    },
    {
     "cell_type": "code",
     "collapsed": false,
     "input": [
      "a"
     ],
     "language": "python",
     "metadata": {},
     "outputs": [
      {
       "metadata": {},
       "output_type": "pyout",
       "prompt_number": 88,
       "text": [
        "Matrix([\n",
        "[  1,   3],\n",
        "[  1,   3],\n",
        "[  3,   1],\n",
        "[  3,   1],\n",
        "[5/2, 5/2],\n",
        "[5/2, 5/2]])"
       ]
      }
     ],
     "prompt_number": 88
    },
    {
     "cell_type": "code",
     "collapsed": false,
     "input": [
      "np.where(np.array(a).ravel()==3)"
     ],
     "language": "python",
     "metadata": {},
     "outputs": [
      {
       "metadata": {},
       "output_type": "pyout",
       "prompt_number": 91,
       "text": [
        "(array([1, 3, 4, 6]),)"
       ]
      }
     ],
     "prompt_number": 91
    },
    {
     "cell_type": "code",
     "collapsed": false,
     "input": [],
     "language": "python",
     "metadata": {},
     "outputs": []
    }
   ],
   "metadata": {}
  }
 ]
}