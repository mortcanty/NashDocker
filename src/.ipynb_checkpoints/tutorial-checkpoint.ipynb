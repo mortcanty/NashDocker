{
 "metadata": {
  "name": "",
  "signature": "sha256:b742350d16aeca975a420308672f9305bbab77fbdc58a5dd0d766a18f46f23c2"
 },
 "nbformat": 3,
 "nbformat_minor": 0,
 "worksheets": [
  {
   "cells": [
    {
     "cell_type": "code",
     "collapsed": false,
     "input": [
      "from nash.nasheq import nashEquilibria"
     ],
     "language": "python",
     "metadata": {},
     "outputs": [],
     "prompt_number": 4
    },
    {
     "cell_type": "code",
     "collapsed": false,
     "input": [
      "A = [[1,3],[1,3],[3,1],[3,1],[2.5,2.5],[2.5,2.5]]  \n",
      "B = [[1,2],[0,-1],[-2,2],[4,-1],[-1,6],[6,-1]] "
     ],
     "language": "python",
     "metadata": {},
     "outputs": [],
     "prompt_number": 5
    },
    {
     "cell_type": "code",
     "collapsed": false,
     "input": [
      "nashEquilibria(A,B)"
     ],
     "language": "python",
     "metadata": {},
     "outputs": [
      {
       "metadata": {},
       "output_type": "pyout",
       "prompt_number": 6,
       "text": [
        "[([0.5, 0.5, 0, 0, 0, 0], 2.5, [0.25, 0.75], 0.5),\n",
        " ([0.5, 0.5, 0, 0, 0, 0], 3, [0, 1], 0.5),\n",
        " ([0, 0, 0.5555555555555556, 0.4444444444444444, 0, 0],\n",
        "  2.5,\n",
        "  [0.75, 0.25],\n",
        "  0.6666666666666666),\n",
        " ([0, 0, 0.5555555555555556, 0.4444444444444444, 0, 0],\n",
        "  3,\n",
        "  [1, 0],\n",
        "  0.6666666666666666),\n",
        " ([0, 0, 0, 0.5833333333333334, 0.4166666666666667, 0],\n",
        "  2.5,\n",
        "  [0.75, 0.25],\n",
        "  1.9166666666666667),\n",
        " ([0, 0, 0, 1, 0, 0], 3, [1, 0], 4),\n",
        " ([0, 0.875, 0, 0, 0.125, 0], 2.5, [0.25, 0.75], -0.125),\n",
        " ([0.875, 0, 0, 0, 0, 0.125], 2.5, [0.25, 0.75], 1.625),\n",
        " ([0, 0, 0.6363636363636364, 0, 0, 0.36363636363636365],\n",
        "  2.5,\n",
        "  [0.75, 0.25],\n",
        "  0.9090909090909091),\n",
        " ([0, 0, 0, 0, 0.5, 0.5], 2.5, [0.75, 0.25], 2.5),\n",
        " ([0, 0, 0, 0, 0.5, 0.5], 2.5, [0.25, 0.75], 2.5),\n",
        " ([1, 0, 0, 0, 0, 0], 3, [0, 1], 2)]"
       ]
      }
     ],
     "prompt_number": 6
    },
    {
     "cell_type": "code",
     "collapsed": false,
     "input": [],
     "language": "python",
     "metadata": {},
     "outputs": []
    }
   ],
   "metadata": {}
  }
 ]
}